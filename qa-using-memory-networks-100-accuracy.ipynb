{
 "cells": [
  {
   "cell_type": "markdown",
   "metadata": {},
   "source": [
    "# Context-Aware Question Answering with Memory Networks(~100% accuracy)"
   ]
  },
  {
   "cell_type": "markdown",
   "metadata": {},
   "source": [
    "### In this notebook we will create a memory network using attention mechanism.\n",
    "\n",
    " A Memory Network is a type of a neural network architecture which are specifically \n",
    "  designed for tasks that require reasoning over long term dependencies.\n",
    "Memory Network works in multiple hops,each hop allows the model to revisit the memory\n",
    "  refining the info retrieved at each hop."
   ]
  },
  {
   "cell_type": "code",
   "execution_count": 1,
   "metadata": {},
   "outputs": [],
   "source": [
    "import numpy as np\n",
    "import matplotlib.pyplot as plt\n",
    "import pandas as pd\n",
    "import tarfile\n",
    "import re\n",
    "import keras\n",
    "import tensorflow as tf\n",
    "%matplotlib inline\n",
    "from tensorflow.keras.layers import Dense,Input,Embedding,Reshape,dot,add,Activation,Lambda\n",
    "from tensorflow.keras.models import Model\n",
    "from tensorflow.keras.preprocessing.sequence import pad_sequences\n",
    "from keras.optimizers import Adam,RMSprop\n",
    "from tensorflow.keras.utils import get_file"
   ]
  },
  {
   "cell_type": "markdown",
   "metadata": {},
   "source": [
    "## 1.Getting the data"
   ]
  },
  {
   "cell_type": "code",
   "execution_count": 2,
   "metadata": {},
   "outputs": [],
   "source": [
    "path=get_file('babi-tasks-v1-2.tar.gz', origin='https://s3.amazonaws.com/text-datasets/babi_tasks_1-20_v1-2.tar.gz')\n",
    "tar=tarfile.open(path)"
   ]
  },
  {
   "cell_type": "code",
   "execution_count": 3,
   "metadata": {},
   "outputs": [],
   "source": [
    "challenges={'single_supporting_fact_hindi':\n",
    "            'tasks_1-20_v1-2/hn-10k/qa1_single-supporting-fact_{}.txt',  \n",
    "            'two_supporting_fact_english':\n",
    "            'tasks_1-20_v1-2/en-10k/qa2_two-supporting-facts_{}.txt'}"
   ]
  },
  {
   "cell_type": "markdown",
   "metadata": {},
   "source": [
    "## 2.Preprocessing the data"
   ]
  },
  {
   "cell_type": "code",
   "execution_count": 4,
   "metadata": {},
   "outputs": [],
   "source": [
    "# Tokenization\n",
    "def tokenize(sent):\n",
    "    return [x.strip() for x in re.split('\\W+?',sent) if x.strip()]    "
   ]
  },
  {
   "cell_type": "code",
   "execution_count": 5,
   "metadata": {},
   "outputs": [],
   "source": [
    "# The get_stories() will return us the data in the form of triplets-(story,question,answer)\n",
    "def get_stories(f):\n",
    "    data=[]\n",
    "    story=[]    \n",
    "    for line in f:\n",
    "        line=line.decode('utf-8').strip()\n",
    "        nid,line=line.split(' ',1)\n",
    "        if int(nid)==1:\n",
    "            story=[]\n",
    "        if '\\t' in line:                         # question<tab>answer<tab>lineno.\n",
    "            q,a,supporting=line.split('\\t')\n",
    "            q=tokenize(q)\n",
    "            story_so_far=[[str(i)]+s for i,s in enumerate(story) if s]\n",
    "            data.append((story_so_far,q,a))\n",
    "            story.append('')\n",
    "        else:\n",
    "            story.append(tokenize(line))\n",
    "    return data"
   ]
  },
  {
   "cell_type": "code",
   "execution_count": 6,
   "metadata": {},
   "outputs": [],
   "source": [
    "#The flatten() funcn will recursively flatten a list which will be useful in getting the total vocab size\n",
    "def should_flatten(el):\n",
    "    return not isinstance(el,(str,bytes))\n",
    "def flatten(l):\n",
    "    for el in l:\n",
    "        if should_flatten(el):\n",
    "            yield from flatten(el)\n",
    "        else:\n",
    "            yield el "
   ]
  },
  {
   "cell_type": "code",
   "execution_count": 7,
   "metadata": {},
   "outputs": [],
   "source": [
    "# Vectorizing and padding the story in the data along the column so that\n",
    "# all the sentences in the story have same no. of words\n",
    "def vectorize_stories(data,word2idx,story_maxlen,queries_maxlen):\n",
    "    inputs,queries,ans=[],[],[]\n",
    "    for story,querie,answer in data:\n",
    "        inputs.append([[word2idx[w] for w in s]for s in story])\n",
    "        queries.append([word2idx[w] for w in querie])\n",
    "        ans.append(word2idx[answer])\n",
    "        \n",
    "    return (\n",
    "            [pad_sequences(s,maxlen=story_maxlen) for s in inputs],\n",
    "            pad_sequences(queries,maxlen=queries_maxlen),\n",
    "            np.array(ans)\n",
    "    )"
   ]
  },
  {
   "cell_type": "code",
   "execution_count": 8,
   "metadata": {},
   "outputs": [],
   "source": [
    "#padding along the row so that every story have same no of sentences\n",
    "def stack_inputs(inputs,story_maxsents,story_maxlen):\n",
    "    for i,story in enumerate(inputs):\n",
    "        inputs[i]=np.concatenate([story,\n",
    "                                 np.zeros((story_maxsents-story.shape[0],story_maxlen),'int')\n",
    "                                 ]\n",
    "                                )\n",
    "    return np.stack(inputs)"
   ]
  },
  {
   "cell_type": "code",
   "execution_count": 9,
   "metadata": {},
   "outputs": [],
   "source": [
    "def get_data(challenge_type):\n",
    "    challenge=challenges[challenge_type]\n",
    "    \n",
    "    # Extracting train and test stories\n",
    "    train_stories=get_stories(tar.extractfile(challenge.format('train')))\n",
    "    test_stories=get_stories(tar.extractfile(challenge.format('test')))\n",
    "    \n",
    "    # Adding both train and test stories for vocabulary\n",
    "    stories=train_stories+test_stories           \n",
    "   \n",
    "    story_maxlen=max((len(s) for x,_,_ in stories for s in x)) # Max length of a sentence\n",
    "    querie_maxlen=max(len(x) for _,x,_ in stories)             # Max length of a question\n",
    "    story_maxsents=max(len(x) for x,_,_ in stories)            # Max sentences in a story\n",
    "    \n",
    "    vocab=sorted(set(flatten(stories)))       # Total Vocabulary\n",
    "    vocab.insert(0,'<PAD>')                   # Represents Padding during preprocessing \n",
    "    vocab_size=len(vocab)                        \n",
    "    \n",
    "    word2idx={w:i for i,w in enumerate(vocab)}  # Assigning a number to each word in vocabulary\n",
    "    \n",
    "    # Making the story shape uniform \n",
    "    input_train,querie_train,answer_train=vectorize_stories(\n",
    "        train_stories,\n",
    "        word2idx,\n",
    "        story_maxlen,\n",
    "        querie_maxlen\n",
    "    )\n",
    "    \n",
    "    input_test,querie_test,answer_test=vectorize_stories(\n",
    "        test_stories,\n",
    "        word2idx,\n",
    "        story_maxlen,\n",
    "        querie_maxlen\n",
    "    )\n",
    "    \n",
    "    input_train=stack_inputs(input_train,story_maxsents,story_maxlen)\n",
    "    input_test=stack_inputs(input_test,story_maxsents,story_maxlen)\n",
    "    print('input train shape,input test shape',input_train.shape,input_test.shape)\n",
    "    \n",
    "    return train_stories,test_stories,\\\n",
    "           input_train,querie_train,answer_train,\\\n",
    "           input_test,querie_test,answer_test,\\\n",
    "           story_maxlen,querie_maxlen,story_maxsents,\\\n",
    "           vocab_size,vocab"
   ]
  },
  {
   "cell_type": "markdown",
   "metadata": {},
   "source": [
    "# Single Supporting fact Model"
   ]
  },
  {
   "cell_type": "code",
   "execution_count": 10,
   "metadata": {},
   "outputs": [
    {
     "name": "stdout",
     "output_type": "stream",
     "text": [
      "input train shape,input test shape (10000, 10, 7) (1000, 10, 7)\n"
     ]
    }
   ],
   "source": [
    "train_stories,test_stories,\\\n",
    "input_train,querie_train,answer_train,\\\n",
    "input_test,querie_test,answer_test,\\\n",
    "story_maxlen,querie_maxlen,story_maxsents,\\\n",
    "vocab_size,vocab = get_data('single_supporting_fact_hindi')"
   ]
  },
  {
   "cell_type": "markdown",
   "metadata": {},
   "source": [
    "## 3. Defining Model Architecture"
   ]
  },
  {
   "cell_type": "markdown",
   "metadata": {
    "execution": {
     "iopub.execute_input": "2024-11-12T16:32:58.598686Z",
     "iopub.status.busy": "2024-11-12T16:32:58.598211Z",
     "iopub.status.idle": "2024-11-12T16:32:58.606740Z",
     "shell.execute_reply": "2024-11-12T16:32:58.605411Z",
     "shell.execute_reply.started": "2024-11-12T16:32:58.598642Z"
    }
   },
   "source": [
    "\n",
    "We will use bag of words(BOW) approach in creating sentence vector , \n",
    "the sum operation treats each sentence as a \"Bag of Words\" , \n",
    "disregarding their order of words but retaining their collective meaning.\n",
    "\n",
    "it will be like:-                  \n",
    "                                     \n",
    " (sentence in normal form) how are you -- vector -->  [ [] , [] , [] ]  -- + -->  [ [] ] (sentence in BOW approach)\n",
    " \n",
    "Individual word vectors of a sentence are summed to form a single sentence vector."
   ]
  },
  {
   "cell_type": "code",
   "execution_count": 11,
   "metadata": {},
   "outputs": [
    {
     "name": "stdout",
     "output_type": "stream",
     "text": [
      "embedded story shape= (None, 10, 7, 20)\n",
      "embedded story shape after bag of words approach: (None, 10, 20)\n"
     ]
    }
   ],
   "source": [
    "embedding_dim=20\n",
    "\n",
    "input_story=Input(shape=(story_maxsents,story_maxlen))\n",
    "embedded_story=Embedding(vocab_size,embedding_dim)(input_story)\n",
    "print('embedded story shape=',embedded_story.shape)\n",
    "# Applying BOW approach on story sentences \n",
    "embedded_story=Lambda(lambda x : tf.reduce_sum(x,axis=2),output_shape=(story_maxsents,embedding_dim))(embedded_story)\n",
    "print('embedded story shape after bag of words approach:',embedded_story.shape)"
   ]
  },
  {
   "cell_type": "code",
   "execution_count": 12,
   "metadata": {},
   "outputs": [
    {
     "name": "stdout",
     "output_type": "stream",
     "text": [
      "embedded story shape= (None, 5, 20)\n",
      "embedded query shape after bag of words approach: (None, 20)\n"
     ]
    }
   ],
   "source": [
    "input_query=Input(shape=(querie_maxlen,))\n",
    "embedded_query=Embedding(vocab_size,embedding_dim)(input_query)\n",
    "print('embedded story shape=',embedded_query.shape)\n",
    "# Applying BOW approach on query sentence \n",
    "embedded_query=Lambda(lambda x:tf.reduce_sum(x,axis=1),output_shape=(embedding_dim,))(embedded_query)\n",
    "print('embedded query shape after bag of words approach:',embedded_query.shape)"
   ]
  },
  {
   "cell_type": "markdown",
   "metadata": {},
   "source": [
    " ### Now , we will apply attention mechanism which will help in determining-\n",
    "> Which sentence in the story should i pay attention to determine the answer to the question."
   ]
  },
  {
   "cell_type": "code",
   "execution_count": 13,
   "metadata": {},
   "outputs": [
    {
     "name": "stdout",
     "output_type": "stream",
     "text": [
      "(None, 1, 20) (None, 10, 20)\n"
     ]
    }
   ],
   "source": [
    "#To determine the similarity score between question and sentences we will Reshape the query to apply dot.\n",
    "embedded_query=Reshape((1,embedding_dim))(embedded_query)\n",
    "print(embedded_query.shape,embedded_story.shape)"
   ]
  },
  {
   "cell_type": "code",
   "execution_count": 14,
   "metadata": {},
   "outputs": [
    {
     "name": "stdout",
     "output_type": "stream",
     "text": [
      "raw similarity score shape: (None, 10, 1)\n",
      "raw similarity score before softmax: (None, 10)\n",
      "attention score shape: (None, 10, 1) ,embedded story shape: (None, 10, 20)\n",
      "context vector shape= (None, 1, 20)\n"
     ]
    }
   ],
   "source": [
    "raw_scores=dot([embedded_story,embedded_query],axes=2)\n",
    "print(\"raw similarity score shape:\",raw_scores.shape)\n",
    "# To convert the raw similarity score into attention weights we will apply softmax.\n",
    "# As softmax is applicable on only one axis we will reshape the raw scores \n",
    "raw_scores=Reshape((story_maxsents,))(raw_scores)\n",
    "print('raw similarity score before softmax:',raw_scores.shape)\n",
    "atten_score=Activation('softmax')(raw_scores)\n",
    "# In order to find context vector which will contain all the info of the related sentences we will reshape attention weights\n",
    "atten_score=Reshape((story_maxsents,1))(atten_score)\n",
    "print('attention score shape:',atten_score.shape,',embedded story shape:',embedded_story.shape)\n",
    "context_vec=dot([atten_score,embedded_story],1)\n",
    "print('context vector shape=',context_vec.shape)\n",
    "context_vec=Reshape((embedding_dim,))(context_vec)\n",
    "ans=Dense(vocab_size,activation='softmax')(context_vec)"
   ]
  },
  {
   "cell_type": "code",
   "execution_count": 15,
   "metadata": {},
   "outputs": [],
   "source": [
    "# Final model architecture\n",
    "model=Model([input_story,input_query],ans)"
   ]
  },
  {
   "cell_type": "code",
   "execution_count": 16,
   "metadata": {},
   "outputs": [
    {
     "name": "stdout",
     "output_type": "stream",
     "text": [
      "You must install pydot (`pip install pydot`) and install graphviz (see instructions at https://graphviz.gitlab.io/download/) for plot_model to work.\n"
     ]
    },
    {
     "data": {
      "text/plain": [
       "None"
      ]
     },
     "metadata": {},
     "output_type": "display_data"
    }
   ],
   "source": [
    "display(keras.utils.plot_model(model, show_shapes=True, show_dtype=True))"
   ]
  },
  {
   "cell_type": "code",
   "execution_count": 17,
   "metadata": {},
   "outputs": [],
   "source": [
    "model.compile(optimizer=Adam(learning_rate=1e-2),loss='sparse_categorical_crossentropy',metrics=['accuracy'])"
   ]
  },
  {
   "cell_type": "code",
   "execution_count": 18,
   "metadata": {},
   "outputs": [
    {
     "name": "stdout",
     "output_type": "stream",
     "text": [
      "Epoch 1/5\n",
      "313/313 [==============================] - 4s 5ms/step - loss: 0.7445 - accuracy: 0.7354 - val_loss: 0.0661 - val_accuracy: 0.9810\n",
      "Epoch 2/5\n",
      "313/313 [==============================] - 2s 5ms/step - loss: 0.0338 - accuracy: 0.9913 - val_loss: 0.0028 - val_accuracy: 1.0000\n",
      "Epoch 3/5\n",
      "313/313 [==============================] - 2s 5ms/step - loss: 0.0017 - accuracy: 1.0000 - val_loss: 0.0011 - val_accuracy: 1.0000\n",
      "Epoch 4/5\n",
      "313/313 [==============================] - 2s 5ms/step - loss: 8.2204e-04 - accuracy: 1.0000 - val_loss: 6.3290e-04 - val_accuracy: 1.0000\n",
      "Epoch 5/5\n",
      "313/313 [==============================] - 2s 5ms/step - loss: 4.8753e-04 - accuracy: 1.0000 - val_loss: 4.0005e-04 - val_accuracy: 1.0000\n"
     ]
    }
   ],
   "source": [
    "# Training the model\n",
    "hist=model.fit([input_train,querie_train],\n",
    "               answer_train,\n",
    "               epochs=5,\n",
    "               batch_size=32,\n",
    "               validation_data=([input_test,querie_test],answer_test),\n",
    "              )"
   ]
  },
  {
   "cell_type": "markdown",
   "metadata": {},
   "source": [
    "### Plotting the accuracy and loss metrics"
   ]
  },
  {
   "cell_type": "code",
   "execution_count": 19,
   "metadata": {},
   "outputs": [
    {
     "data": {
      "text/plain": [
       "<matplotlib.legend.Legend at 0x2cf30b19e10>"
      ]
     },
     "execution_count": 19,
     "metadata": {},
     "output_type": "execute_result"
    },
    {
     "data": {
      "image/png": "[encoded data removed]",
      "text/plain": [
       "<Figure size 640x480 with 1 Axes>"
      ]
     },
     "metadata": {},
     "output_type": "display_data"
    }
   ],
   "source": [
    "plt.plot(hist.history['val_accuracy'],label='val_acc')\n",
    "plt.plot(hist.history['accuracy'],label='accuracy')\n",
    "plt.legend()"
   ]
  },
  {
   "cell_type": "code",
   "execution_count": 20,
   "metadata": {},
   "outputs": [
    {
     "data": {
      "text/plain": [
       "<matplotlib.legend.Legend at 0x2d030dc90f0>"
      ]
     },
     "execution_count": 20,
     "metadata": {},
     "output_type": "execute_result"
    },
    {
     "data": {
      "image/png": "[encoded data removed]",
      "text/plain": [
       "<Figure size 640x480 with 1 Axes>"
      ]
     },
     "metadata": {},
     "output_type": "display_data"
    }
   ],
   "source": [
    "plt.plot(hist.history['val_loss'],label='val_loss')\n",
    "plt.plot(hist.history['loss'],label='loss')\n",
    "plt.legend()"
   ]
  },
  {
   "cell_type": "markdown",
   "metadata": {},
   "source": [
    "## 4. Model Evaluation\n",
    "> Lets see how our model used the attention weights to determine the answer"
   ]
  },
  {
   "cell_type": "code",
   "execution_count": 21,
   "metadata": {},
   "outputs": [],
   "source": [
    "debug_model=Model([input_story,input_query],atten_score)"
   ]
  },
  {
   "cell_type": "code",
   "execution_count": 22,
   "metadata": {},
   "outputs": [
    {
     "name": "stdout",
     "output_type": "stream",
     "text": [
      "1/1 [==============================] - 0s 104ms/step\n",
      "0.0000 \t 0 Priya daftar mein chali gayi\n",
      "0.0000 \t 1 Badri gusalkhaney mein chala gaya\n",
      "0.0000 \t 3 Sita gusalkhaney mein gayi\n",
      "0.0000 \t 4 Badri bagichey mein gaya\n",
      "0.0000 \t 6 Mohit gusalkhaney gaya\n",
      "0.0000 \t 7 Mohit sayanakaksh gaya\n",
      "0.0000 \t 9 Mohit galiyarey gaya\n",
      "1.0000 \t 10 Badri rasoi ghar mein chala gaya\n",
      "question: Badri is samay kahan hai\n",
      "answer: rasoi ghar\n"
     ]
    }
   ],
   "source": [
    "idx=np.random.choice(len(input_test))  # selecting a random story from data\n",
    "input_story=input_test[idx:idx+1]\n",
    "input_query=querie_test[idx:idx+1]\n",
    "answer=answer_test[idx:idx+1]\n",
    "\n",
    "w=debug_model.predict([input_story,input_query]).flatten()    #predicting the attention weights\n",
    "\n",
    "story,query,ans=test_stories[idx]\n",
    "\n",
    "for i,line in enumerate(story):\n",
    "    print(\"{:1.4f}\".format(w[i]),\"\\t\",\" \".join(line))\n",
    "    \n",
    "print('question:',' '.join(query))\n",
    "print('answer:',ans)"
   ]
  },
  {
   "cell_type": "markdown",
   "metadata": {},
   "source": [
    " # Two supporting fact Model"
   ]
  },
  {
   "cell_type": "code",
   "execution_count": 23,
   "metadata": {},
   "outputs": [
    {
     "name": "stdout",
     "output_type": "stream",
     "text": [
      "input train shape,input test shape (10000, 88, 7) (1000, 88, 7)\n"
     ]
    }
   ],
   "source": [
    "train_stories,test_stories,\\\n",
    "input_train,querie_train,answer_train,\\\n",
    "input_test,querie_test,answer_test,\\\n",
    "story_maxlen,querie_maxlen,story_maxsents,\\\n",
    "vocab_size,vocab = get_data('two_supporting_fact_english')"
   ]
  },
  {
   "cell_type": "code",
   "execution_count": 24,
   "metadata": {},
   "outputs": [],
   "source": [
    "embedding_dim=30\n",
    "\n",
    "def embed_sum(story,axis):\n",
    "    x=Embedding(vocab_size,embedding_dim)(story)\n",
    "    x=Lambda(lambda x:tf.reduce_sum(x,axis))(x)\n",
    "    return x"
   ]
  },
  {
   "cell_type": "code",
   "execution_count": 25,
   "metadata": {},
   "outputs": [
    {
     "name": "stdout",
     "output_type": "stream",
     "text": [
      "embedded story shape after bow: (None, 88, 30)\n"
     ]
    }
   ],
   "source": [
    "input_story=Input(shape=(story_maxsents,story_maxlen))\n",
    "embedded_story=embed_sum(input_story,2)\n",
    "print('embedded story shape after bow:',embedded_story.shape)"
   ]
  },
  {
   "cell_type": "code",
   "execution_count": 26,
   "metadata": {},
   "outputs": [
    {
     "name": "stdout",
     "output_type": "stream",
     "text": [
      "input query shape: (None, 4)\n",
      "embedded query shape after bow: (None, 30)\n"
     ]
    }
   ],
   "source": [
    "input_query=Input(shape=(querie_maxlen,))\n",
    "print('input query shape:',input_query.shape)\n",
    "embedded_query=embed_sum(input_query,1)\n",
    "print('embedded query shape after bow:',embedded_query.shape)"
   ]
  },
  {
   "cell_type": "code",
   "execution_count": 27,
   "metadata": {},
   "outputs": [],
   "source": [
    "# Creating an additional dense layer to help model capture complex relationship b/w sentences.\n",
    "dense_layer=Dense(embedding_dim,activation='elu')"
   ]
  },
  {
   "cell_type": "code",
   "execution_count": 28,
   "metadata": {},
   "outputs": [],
   "source": [
    "def hop(query,story):\n",
    "    query=Reshape((1,embedding_dim))(query)\n",
    "    raw_scores=dot([story,query],axes=2)\n",
    "    raw_scores=Reshape((story_maxsents,))(raw_scores)\n",
    "    atten_score=Activation('softmax')(raw_scores)\n",
    "    atten_score=Reshape((story_maxsents,1))(atten_score)\n",
    "    \n",
    "    # Recalculating the story embedding in order to incorporate atten_score in story.\n",
    "    # Adding the new dense_layer and embedded_story2 will help the model to refocus on differnt parts of story\n",
    "    # so that will increase its understanding of the story\n",
    "    embedded_story2=embed_sum(input_story,2)\n",
    "    context_vec=dot([atten_score,embedded_story2],axes=1)\n",
    "    context_vec=Reshape((embedding_dim,))(context_vec)\n",
    "    x=dense_layer(context_vec)\n",
    "    \n",
    "    return x,embedded_story2,atten_score"
   ]
  },
  {
   "cell_type": "markdown",
   "metadata": {},
   "source": [
    "### As this require multiple sentences to determine an answer we will pass the answer from first hop to the second hop.\n",
    " > We will pass the ans from 1st hop as query to 2nd hop so that model will adjust its focus to new sentences."
   ]
  },
  {
   "cell_type": "code",
   "execution_count": 29,
   "metadata": {},
   "outputs": [],
   "source": [
    "ans1,story_embedding1,atten_weight1=hop(embedded_query,embedded_story)\n",
    "ans2,story_embedding2,atten_weight2=hop(ans1,story_embedding1)"
   ]
  },
  {
   "cell_type": "code",
   "execution_count": 30,
   "metadata": {},
   "outputs": [],
   "source": [
    "ans=Dense(vocab_size,activation='softmax')(ans2)"
   ]
  },
  {
   "cell_type": "code",
   "execution_count": 31,
   "metadata": {},
   "outputs": [],
   "source": [
    "# Final model Architecture\n",
    "model=Model([input_story,input_query],ans)"
   ]
  },
  {
   "cell_type": "code",
   "execution_count": 32,
   "metadata": {},
   "outputs": [],
   "source": [
    "model.compile(optimizer=RMSprop(learning_rate=5e-3),loss='sparse_categorical_crossentropy',metrics=['accuracy'])"
   ]
  },
  {
   "cell_type": "code",
   "execution_count": 33,
   "metadata": {},
   "outputs": [
    {
     "name": "stdout",
     "output_type": "stream",
     "text": [
      "Epoch 1/30\n",
      "313/313 [==============================] - 4s 8ms/step - loss: 1.7736 - accuracy: 0.2445 - val_loss: 1.5464 - val_accuracy: 0.3610\n",
      "Epoch 2/30\n",
      "313/313 [==============================] - 2s 7ms/step - loss: 1.0946 - accuracy: 0.5592 - val_loss: 0.7592 - val_accuracy: 0.7270\n",
      "Epoch 3/30\n",
      "313/313 [==============================] - 2s 7ms/step - loss: 0.6531 - accuracy: 0.7519 - val_loss: 0.6203 - val_accuracy: 0.7510\n",
      "Epoch 4/30\n",
      "313/313 [==============================] - 2s 7ms/step - loss: 0.5216 - accuracy: 0.8041 - val_loss: 0.5645 - val_accuracy: 0.7810\n",
      "Epoch 5/30\n",
      "313/313 [==============================] - 2s 7ms/step - loss: 0.4225 - accuracy: 0.8455 - val_loss: 0.5778 - val_accuracy: 0.8020\n",
      "Epoch 6/30\n",
      "313/313 [==============================] - 2s 7ms/step - loss: 0.3787 - accuracy: 0.8646 - val_loss: 0.4248 - val_accuracy: 0.8510\n",
      "Epoch 7/30\n",
      "313/313 [==============================] - 2s 7ms/step - loss: 0.3265 - accuracy: 0.8822 - val_loss: 0.3781 - val_accuracy: 0.8720\n",
      "Epoch 8/30\n",
      "313/313 [==============================] - 2s 7ms/step - loss: 0.2908 - accuracy: 0.9000 - val_loss: 0.3775 - val_accuracy: 0.8670\n",
      "Epoch 9/30\n",
      "313/313 [==============================] - 2s 7ms/step - loss: 0.2721 - accuracy: 0.9102 - val_loss: 0.3674 - val_accuracy: 0.8790\n",
      "Epoch 10/30\n",
      "313/313 [==============================] - 2s 7ms/step - loss: 0.2510 - accuracy: 0.9178 - val_loss: 0.4105 - val_accuracy: 0.8570\n",
      "Epoch 11/30\n",
      "313/313 [==============================] - 2s 7ms/step - loss: 0.2384 - accuracy: 0.9243 - val_loss: 0.3333 - val_accuracy: 0.8880\n",
      "Epoch 12/30\n",
      "313/313 [==============================] - 2s 7ms/step - loss: 0.2276 - accuracy: 0.9288 - val_loss: 0.3746 - val_accuracy: 0.8770\n",
      "Epoch 13/30\n",
      "313/313 [==============================] - 2s 7ms/step - loss: 0.2169 - accuracy: 0.9318 - val_loss: 0.4194 - val_accuracy: 0.8790\n",
      "Epoch 14/30\n",
      "313/313 [==============================] - 2s 7ms/step - loss: 0.2132 - accuracy: 0.9353 - val_loss: 0.4099 - val_accuracy: 0.8820\n",
      "Epoch 15/30\n",
      "313/313 [==============================] - 2s 7ms/step - loss: 0.2025 - accuracy: 0.9372 - val_loss: 0.3212 - val_accuracy: 0.9010\n",
      "Epoch 16/30\n",
      "313/313 [==============================] - 2s 7ms/step - loss: 0.1936 - accuracy: 0.9427 - val_loss: 0.4476 - val_accuracy: 0.8770\n",
      "Epoch 17/30\n",
      "313/313 [==============================] - 2s 7ms/step - loss: 0.1871 - accuracy: 0.9463 - val_loss: 0.3471 - val_accuracy: 0.8870\n",
      "Epoch 18/30\n",
      "313/313 [==============================] - 2s 7ms/step - loss: 0.1838 - accuracy: 0.9470 - val_loss: 0.3303 - val_accuracy: 0.8930\n",
      "Epoch 19/30\n",
      "313/313 [==============================] - 2s 7ms/step - loss: 0.1765 - accuracy: 0.9496 - val_loss: 0.3793 - val_accuracy: 0.8930\n",
      "Epoch 20/30\n",
      "313/313 [==============================] - 2s 7ms/step - loss: 0.1700 - accuracy: 0.9525 - val_loss: 0.4347 - val_accuracy: 0.8800\n",
      "Epoch 21/30\n",
      "313/313 [==============================] - 2s 7ms/step - loss: 0.1732 - accuracy: 0.9531 - val_loss: 0.3134 - val_accuracy: 0.9090\n",
      "Epoch 22/30\n",
      "313/313 [==============================] - 2s 7ms/step - loss: 0.1761 - accuracy: 0.9519 - val_loss: 0.3561 - val_accuracy: 0.9150\n",
      "Epoch 23/30\n",
      "313/313 [==============================] - 2s 7ms/step - loss: 0.1624 - accuracy: 0.9553 - val_loss: 0.2908 - val_accuracy: 0.9140\n",
      "Epoch 24/30\n",
      "313/313 [==============================] - 2s 7ms/step - loss: 0.1664 - accuracy: 0.9563 - val_loss: 0.3365 - val_accuracy: 0.9030\n",
      "Epoch 25/30\n",
      "313/313 [==============================] - 2s 7ms/step - loss: 0.1656 - accuracy: 0.9556 - val_loss: 0.3253 - val_accuracy: 0.9080\n",
      "Epoch 26/30\n",
      "313/313 [==============================] - 2s 7ms/step - loss: 0.1574 - accuracy: 0.9586 - val_loss: 0.3112 - val_accuracy: 0.9150\n",
      "Epoch 27/30\n",
      "313/313 [==============================] - 2s 7ms/step - loss: 0.1472 - accuracy: 0.9613 - val_loss: 0.3826 - val_accuracy: 0.8980\n",
      "Epoch 28/30\n",
      "313/313 [==============================] - 2s 7ms/step - loss: 0.1328 - accuracy: 0.9632 - val_loss: 0.3977 - val_accuracy: 0.9040\n",
      "Epoch 29/30\n",
      "313/313 [==============================] - 2s 7ms/step - loss: 0.1500 - accuracy: 0.9621 - val_loss: 0.3602 - val_accuracy: 0.8970\n",
      "Epoch 30/30\n",
      "313/313 [==============================] - 2s 7ms/step - loss: 0.1302 - accuracy: 0.9643 - val_loss: 0.4183 - val_accuracy: 0.9000\n"
     ]
    }
   ],
   "source": [
    "hist=model.fit([input_train,querie_train],\n",
    "          answer_train,\n",
    "          batch_size=32,\n",
    "          epochs=30,\n",
    "          validation_data=([input_test,querie_test],answer_test),\n",
    "         )"
   ]
  },
  {
   "cell_type": "markdown",
   "metadata": {},
   "source": [
    "## Plotting the accuracy and loss metrics"
   ]
  },
  {
   "cell_type": "code",
   "execution_count": 34,
   "metadata": {},
   "outputs": [
    {
     "data": {
      "text/plain": [
       "<matplotlib.legend.Legend at 0x2cf2fc9f610>"
      ]
     },
     "execution_count": 34,
     "metadata": {},
     "output_type": "execute_result"
    },
    {
     "data": {
      "image/png": "[encoded data removed]",
      "text/plain": [
       "<Figure size 640x480 with 1 Axes>"
      ]
     },
     "metadata": {},
     "output_type": "display_data"
    }
   ],
   "source": [
    "plt.plot(hist.history['val_accuracy'],label='val_acc')\n",
    "plt.plot(hist.history['accuracy'],label='accuracy')\n",
    "plt.legend()"
   ]
  },
  {
   "cell_type": "code",
   "execution_count": 35,
   "metadata": {},
   "outputs": [
    {
     "data": {
      "text/plain": [
       "<matplotlib.legend.Legend at 0x2cf2eaaf190>"
      ]
     },
     "execution_count": 35,
     "metadata": {},
     "output_type": "execute_result"
    },
    {
     "data": {
      "image/png": "[encoded data removed]",
      "text/plain": [
       "<Figure size 640x480 with 1 Axes>"
      ]
     },
     "metadata": {},
     "output_type": "display_data"
    }
   ],
   "source": [
    "plt.plot(hist.history['val_loss'],label='val_loss')\n",
    "plt.plot(hist.history['loss'],label='loss')\n",
    "plt.legend()"
   ]
  },
  {
   "cell_type": "markdown",
   "metadata": {},
   "source": [
    "### Lets see how our model adjusted its focus across multiple hop."
   ]
  },
  {
   "cell_type": "code",
   "execution_count": 36,
   "metadata": {},
   "outputs": [],
   "source": [
    "debug_model=Model([input_story,input_query],\n",
    "            [atten_weight1,atten_weight2])"
   ]
  },
  {
   "cell_type": "code",
   "execution_count": 38,
   "metadata": {},
   "outputs": [
    {
     "name": "stdout",
     "output_type": "stream",
     "text": [
      "0.00000 \t 0.00000 \t 0 John took the apple there\n",
      "0.00000 \t 0.00000 \t 1 Daniel journeyed to the hallway\n",
      "0.00000 \t 0.00000 \t 2 Daniel journeyed to the office\n",
      "0.00000 \t 0.00000 \t 3 Sandra moved to the bedroom\n",
      "0.00000 \t 0.99561 \t 4 John journeyed to the bathroom\n",
      "0.00000 \t 0.00000 \t 5 Mary travelled to the kitchen\n",
      "0.00000 \t 0.00002 \t 6 Daniel went back to the bathroom\n",
      "0.00000 \t 0.00001 \t 7 Mary journeyed to the bedroom\n",
      "0.00000 \t 0.00002 \t 8 Daniel went to the hallway\n",
      "1.00000 \t 0.00001 \t 9 John discarded the apple there\n",
      "0.00000 \t 0.00433 \t 11 John went back to the kitchen\n",
      "0.00000 \t 0.00000 \t 12 Sandra moved to the garden\n",
      "0.00000 \t 0.00000 \t 14 Daniel went back to the kitchen\n",
      "0.00000 \t 0.00000 \t 15 Sandra went to the kitchen\n",
      "question: Where is the apple\n",
      "actual answer: bathroom\n",
      "predicted answer: bathroom\n"
     ]
    }
   ],
   "source": [
    "idx=np.random.choice(len(train_stories))\n",
    "input_story=input_train[idx:idx+1]\n",
    "input_query=querie_train[idx:idx+1]\n",
    "\n",
    "w1,w2=debug_model.predict([input_story,input_query],verbose=0)\n",
    "w1=w1.flatten()\n",
    "w2=w2.flatten()\n",
    "\n",
    "story,query,ans=train_stories[idx]\n",
    "\n",
    "for i,w in enumerate(story):\n",
    "    print('{:1.5f}'.format(w1[i]),'\\t','{:1.5f}'.format(w2[i]),'\\t',' '.join(w))\n",
    "\n",
    "print('question:',' '.join(query))\n",
    "print('actual answer:',ans)\n",
    "print('predicted answer:',vocab[np.argmax(model.predict([input_story,input_query],verbose=0))])"
   ]
  }
 ],
 "metadata": {
  "kaggle": {
   "accelerator": "none",
   "dataSources": [
    {
     "datasetId": 657043,
     "sourceId": 1160690,
     "sourceType": "datasetVersion"
    }
   ],
   "dockerImageVersionId": 30786,
   "isGpuEnabled": false,
   "isInternetEnabled": true,
   "language": "python",
   "sourceType": "notebook"
  },
  "kernelspec": {
   "display_name": "Python 3 (ipykernel)",
   "language": "python",
   "name": "python3"
  },
  "language_info": {
   "codemirror_mode": {
    "name": "ipython",
    "version": 3
   },
   "file_extension": ".py",
   "mimetype": "text/x-python",
   "name": "python",
   "nbconvert_exporter": "python",
   "pygments_lexer": "ipython3",
   "version": "3.10.0"
  }
 },
 "nbformat": 4,
 "nbformat_minor": 4
}
